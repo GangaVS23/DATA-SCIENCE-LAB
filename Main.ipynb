{
  "nbformat": 4,
  "nbformat_minor": 0,
  "metadata": {
    "colab": {
      "provenance": []
    },
    "kernelspec": {
      "name": "python3",
      "display_name": "Python 3"
    },
    "language_info": {
      "name": "python"
    }
  },
  "cells": [
    {
      "cell_type": "code",
      "execution_count": 3,
      "metadata": {
        "colab": {
          "base_uri": "https://localhost:8080/"
        },
        "id": "49tb4GHOBI3j",
        "outputId": "bf734e23-26ba-436b-ac4f-e886b777b645"
      },
      "outputs": [
        {
          "output_type": "stream",
          "name": "stdout",
          "text": [
            "0.9811320754716981\n"
          ]
        }
      ],
      "source": [
        "#KNN\n",
        "from sklearn.datasets import load_iris\n",
        "iris=load_iris()\n",
        "x=iris.data\n",
        "y=iris.target\n",
        "\n",
        "from sklearn.model_selection import train_test_split\n",
        "xtrain,xtest,ytrain,ytest=train_test_split(x,y,test_size=0.35,random_state=1)\n",
        "\n",
        "from sklearn.neighbors import KNeighborsClassifier\n",
        "knn=KNeighborsClassifier(n_neighbors=4)\n",
        "knn.fit(xtrain,ytrain)\n",
        "print(knn.score(xtest,ytest))"
      ]
    },
    {
      "cell_type": "code",
      "source": [
        "#Naive Bayes\n",
        "from sklearn.datasets import load_iris\n",
        "x,y=load_iris(return_X_y=True)\n",
        "\n",
        "from sklearn.model_selection import train_test_split\n",
        "xtrain,xtest,ytrain,ytest=train_test_split(x,y,test_size=0.35,random_state=1)\n",
        "\n",
        "from sklearn.naive_bayes import GaussianNB\n",
        "gnb=GaussianNB()\n",
        "gnb.fit(xtrain,ytrain)\n",
        "print(gnb.score(xtest,ytest))\n",
        "\n",
        "from sklearn import metrics\n",
        "ypred=gnb.predict(xtest)\n",
        "print(metrics.accuracy_score(ytest,ypred))\n",
        "\n",
        "from sklearn.metrics import confusion_matrix\n",
        "print(metrics.confusion_matrix(ytest,ypred))"
      ],
      "metadata": {
        "colab": {
          "base_uri": "https://localhost:8080/"
        },
        "id": "baYJGht_CNdI",
        "outputId": "80baa6c2-a260-4fea-b285-ceac54d74c71"
      },
      "execution_count": 14,
      "outputs": [
        {
          "output_type": "stream",
          "name": "stdout",
          "text": [
            "0.9433962264150944\n",
            "0.9433962264150944\n",
            "[[19  0  0]\n",
            " [ 0 17  2]\n",
            " [ 0  1 14]]\n"
          ]
        }
      ]
    },
    {
      "cell_type": "code",
      "source": [
        "#Decision Tree\n",
        "from sklearn.datasets import load_iris\n",
        "x,y=load_iris(return_X_y=True)\n",
        "\n",
        "from sklearn.model_selection import train_test_split\n",
        "xtrain,xtest,ytrain,ytest=train_test_split(x,y,test_size=0.35,random_state=1)\n",
        "\n",
        "from sklearn.tree import DecisionTreeClassifier\n",
        "dt=DecisionTreeClassifier()\n",
        "dt.fit(xtrain,ytrain)\n",
        "print(dt.score(xtest,ytest))"
      ],
      "metadata": {
        "colab": {
          "base_uri": "https://localhost:8080/"
        },
        "id": "pISQl8uzEPa6",
        "outputId": "04f83b69-6276-4b25-b932-8e900fd5acfa"
      },
      "execution_count": 15,
      "outputs": [
        {
          "output_type": "stream",
          "name": "stdout",
          "text": [
            "0.9622641509433962\n"
          ]
        }
      ]
    },
    {
      "cell_type": "code",
      "source": [
        "#SVM\n",
        "from sklearn.datasets import load_iris\n",
        "x,y=load_iris(return_X_y=True)\n",
        "\n",
        "from sklearn.model_selection import train_test_split\n",
        "xtrain,xtest,ytrain,ytest=train_test_split(x,y,test_size=0.35,random_state=1)\n",
        "\n",
        "from sklearn.svm import SVC\n",
        "svc=SVC(kernel='linear',random_state=0)\n",
        "svc.fit(xtrain,ytrain)\n",
        "print(svc.score(xtest,ytest))\n",
        "\n",
        "ypred=svc.predict(xtest)\n",
        "ypred_name=[iris.target_names[i] for i in ypred]\n",
        "print(ypred_name)"
      ],
      "metadata": {
        "colab": {
          "base_uri": "https://localhost:8080/"
        },
        "id": "nsz0caHcE4sp",
        "outputId": "66c058ca-039d-458d-e8c3-1d1228b53dd6"
      },
      "execution_count": 18,
      "outputs": [
        {
          "output_type": "stream",
          "name": "stdout",
          "text": [
            "1.0\n",
            "['setosa', 'versicolor', 'versicolor', 'setosa', 'virginica', 'versicolor', 'virginica', 'setosa', 'setosa', 'virginica', 'versicolor', 'setosa', 'virginica', 'versicolor', 'versicolor', 'setosa', 'versicolor', 'versicolor', 'setosa', 'setosa', 'versicolor', 'versicolor', 'versicolor', 'setosa', 'virginica', 'versicolor', 'setosa', 'setosa', 'versicolor', 'virginica', 'versicolor', 'virginica', 'versicolor', 'virginica', 'virginica', 'setosa', 'versicolor', 'setosa', 'versicolor', 'virginica', 'virginica', 'setosa', 'virginica', 'virginica', 'versicolor', 'virginica', 'setosa', 'setosa', 'setosa', 'versicolor', 'setosa', 'setosa', 'virginica']\n"
          ]
        }
      ]
    },
    {
      "cell_type": "code",
      "source": [
        "from numpy import newaxis\n",
        "#Regression\n",
        "from sklearn.datasets import load_diabetes\n",
        "x,y=load_diabetes(return_X_y=True)\n",
        "x=x[:,newaxis,2]\n",
        "x.shape\n",
        "\n",
        "xtrain=x[:-20]\n",
        "xtest=x[-20:]\n",
        "ytrain=y[:-20]\n",
        "ytest=y[-20:]\n",
        "\n",
        "from sklearn.linear_model import LinearRegression\n",
        "regr=LinearRegression()\n",
        "regr.fit(xtrain,ytrain)\n",
        "ypred=regr.predict(xtest)\n",
        "\n",
        "from sklearn.metrics import mean_squared_error,r2_score\n",
        "print(regr.coef_)\n",
        "print(\"Mean squared error : %.2f\" % mean_squared_error(ytest,ypred))\n",
        "print(\"Coefficient of determination : %.2f\" %r2_score(ytest,ypred))"
      ],
      "metadata": {
        "colab": {
          "base_uri": "https://localhost:8080/"
        },
        "id": "T5OpvSHXGsDf",
        "outputId": "cc008fa7-01c3-4b76-99e2-620e6a20c861"
      },
      "execution_count": 36,
      "outputs": [
        {
          "output_type": "stream",
          "name": "stdout",
          "text": [
            "[938.23786125]\n",
            "Mean squared error : 2548.07\n",
            "Coefficient of determination : 0.47\n"
          ]
        }
      ]
    },
    {
      "cell_type": "code",
      "source": [
        "#K-Means\n",
        "from sklearn.datasets import load_iris\n",
        "iris=load_iris()\n",
        "x=iris.data[:,:2]\n",
        "y=iris.target\n",
        "\n",
        "from sklearn.cluster import KMeans\n",
        "km=KMeans()\n",
        "km=KMeans(n_clusters=3,init='k-means++',n_init=10,max_iter=300,tol=0.0001,verbose=0,random_state=21,copy_x=True,algorithm=\"auto\")\n",
        "km.fit(x)\n",
        "centers=km.cluster_centers_\n",
        "labels=km.labels_\n",
        "print(\"New centers\",centers)\n",
        "print(\"New labels\",labels)"
      ],
      "metadata": {
        "colab": {
          "base_uri": "https://localhost:8080/"
        },
        "id": "762s-NhmJybO",
        "outputId": "9719a6a6-d8b1-4195-8e23-6ee4387fad98"
      },
      "execution_count": 39,
      "outputs": [
        {
          "output_type": "stream",
          "name": "stdout",
          "text": [
            "New centers [[5.77358491 2.69245283]\n",
            " [5.006      3.428     ]\n",
            " [6.81276596 3.07446809]]\n",
            "New labels [1 1 1 1 1 1 1 1 1 1 1 1 1 1 1 1 1 1 1 1 1 1 1 1 1 1 1 1 1 1 1 1 1 1 1 1 1\n",
            " 1 1 1 1 1 1 1 1 1 1 1 1 1 2 2 2 0 2 0 2 0 2 0 0 0 0 0 0 2 0 0 0 0 0 0 0 0\n",
            " 2 2 2 2 0 0 0 0 0 0 0 0 2 0 0 0 0 0 0 0 0 0 0 0 0 0 2 0 2 2 2 2 0 2 2 2 2\n",
            " 2 2 0 0 2 2 2 2 0 2 0 2 0 2 2 0 0 2 2 2 2 2 0 0 2 2 2 0 2 2 2 0 2 2 2 0 2\n",
            " 2 0]\n"
          ]
        }
      ]
    }
  ]
}